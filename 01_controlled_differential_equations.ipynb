{
 "cells": [
  {
   "cell_type": "markdown",
   "id": "43f65fa4-b5ce-4bea-89d2-716c304b5e91",
   "metadata": {},
   "source": [
    "[Diffrax - Getting started](https://docs.kidger.site/diffrax/usage/getting-started/)\n",
    "\n",
    "# Controlled differential equations (CDEs)\n",
    "このライブラリではODEもSDEも実際にはまったく同じ方法で解かれる。\n",
    "そのおかげで、比較的小さなライブラリに多くの機能を詰め込むことができている。\n",
    "\n",
    "例として、次のようなCDEの解を考える。\n",
    "\n",
    "$$y(0) = 1,  \\mathrm{d}y = -y(t)\\mathrm{d}x(t)$$ \n",
    "\n",
    "区間は $t \\in [0, 3]$, 制御信号は $x(t) = t^2$ とする。"
   ]
  },
  {
   "cell_type": "code",
   "execution_count": 4,
   "id": "2dc6182b-048e-41e9-b02b-5e532a529e2a",
   "metadata": {},
   "outputs": [
    {
     "name": "stdout",
     "output_type": "stream",
     "text": [
      "[3.]\n",
      "[0.00012341]\n"
     ]
    }
   ],
   "source": [
    "from diffrax import AbstractPath, ControlTerm, diffeqsolve, Dopri5\n",
    "import numpy as np"
   ]
  },
  {
   "cell_type": "markdown",
   "id": "33c48fa8-c553-4449-9a0f-a40d4c341e9c",
   "metadata": {},
   "source": [
    "## ベクトル場\n",
    "まずはベクトル場を定義する。今回は $-y$ である."
   ]
  },
  {
   "cell_type": "code",
   "execution_count": 5,
   "id": "ac92f6fd-635d-4081-a3dd-c11bf6a04dc9",
   "metadata": {},
   "outputs": [],
   "source": [
    "vector_field = lambda t, y, args: -y # ベクトル場. Neural CDEでは NN が組み込まれる."
   ]
  },
  {
   "cell_type": "markdown",
   "id": "4d9415da-8374-41ac-87c5-99217f6e0b77",
   "metadata": {},
   "source": [
    "## [制御項](https://docs.kidger.site/diffrax/api/path/#diffrax.AbstractPath)\n",
    "次に制御信号を定義する.\n",
    "離散的な入力信号を補間して連続的なパスにする際は、 [Interpolations](https://docs.kidger.site/diffrax/api/interpolation/) を用いることになる。"
   ]
  },
  {
   "cell_type": "code",
   "execution_count": null,
   "id": "1b4d326f-f441-4927-a9c7-6f0d685ce6c0",
   "metadata": {},
   "outputs": [],
   "source": [
    "class QuadraticPath(AbstractPath):\n",
    "    '''\n",
    "        制御信号(path; パス)を定義.\n",
    "        制御信号が入力時系列に依存する場合, Neural CDE の例を参照すると良い.\n",
    "    '''\n",
    "    @property\n",
    "    def t0(self):\n",
    "        # 開始時刻\n",
    "        return 0\n",
    "\n",
    "    @property\n",
    "    def t1(self):\n",
    "        # 終端時刻\n",
    "        return 3\n",
    "\n",
    "    def evaluate(self, t0, t1=None, left=True):\n",
    "        del left\n",
    "        if t1 is not None:\n",
    "            return self.evaluate(t1) - self.evaluate(t0)\n",
    "        return t0 ** 2\n",
    "        \n",
    "control = QuadraticPath()"
   ]
  },
  {
   "cell_type": "markdown",
   "id": "77844aae-eb33-4dcf-8de9-2ce5e9b9e907",
   "metadata": {},
   "source": [
    "## [項](https://docs.kidger.site/diffrax/api/terms/)\n",
    "Diffrax ではいろんな種類の微分方程式を統一的に扱うために、 `Term`　をいう機能を持っている。\n",
    "例えば、今回の微分方程式 $$\\mathrm{d}y = -y(t)\\mathrm{d}x(t)$$ は、ベクトル場 $-y(t)$ という行列と、制御項 $\\mathrm{x}(t)$ というベクトルの行列-ベクトル積である。\n",
    "他の微分方程式もベクトル場と制御項の積の組み合わせで構成されることから、 Diffrax では要素ごとに関数・モデルを定義し、 `Term` によって微分方程式を構築している。\n",
    "\n",
    "今回は CDEs なので `ControlTerm` を使用する。\n",
    "`to_ode()` は制御信号が微分可能なときに使用するものである。\n",
    "制御信号 $x(t)$ が微分可能な時、 $$\\mathrm{d}y = f(t, y(t))\\mathrm{d}x(t) = f(t, y(t)) \\frac{\\mathrm{d}x}{\\mathrm{d}t}\\mathrm{d}t$$ のようにして ODE としてみなすことができる。\n",
    "今回の制御信号 $x(t) = t^2$ は微分可能なため、 `Control Term` --> `ODETerm` への変換を行なっている。"
   ]
  },
  {
   "cell_type": "code",
   "execution_count": null,
   "id": "31469dbe-7a3e-4e7a-8746-26b1ab6918b5",
   "metadata": {},
   "outputs": [],
   "source": [
    "term = ControlTerm(vector_field, control).to_ode() # 微分方程式に含まれるこうの定義（ベクトル場と制御項）"
   ]
  },
  {
   "cell_type": "markdown",
   "id": "0a4768c7-f1c2-4815-9998-bd7a21e0d700",
   "metadata": {},
   "source": [
    "## [ソルバー（微分方程式の数値解法）](https://docs.kidger.site/diffrax/api/solvers/ode_solvers/)\n",
    "ルンゲ=クッタ法の次数や、ステップサイズを固定にするか適応的にするかなどで解法が異なる。\n",
    "ルンゲ=クッタ法の次数は近似の精度に影響があり、次数が高い解法を使うほど、より精密な矜持となる。"
   ]
  },
  {
   "cell_type": "code",
   "execution_count": null,
   "id": "4ecb3983-baac-4fe2-9bea-ff7d7e87d0dc",
   "metadata": {},
   "outputs": [],
   "source": [
    "solver = Dopri5() # ソルバー"
   ]
  },
  {
   "cell_type": "markdown",
   "id": "1a776997-f8f3-4716-88fd-d7efc7b6506c",
   "metadata": {},
   "source": [
    "## [解](diffeqsolve)\n",
    "解の計算は `diffeqsolve` を用いる。\n",
    "この関数はODE、SDE、CDEを問わず、あらゆる種類の初期値問題を解くための主な出発地点となる。\n",
    "微分方程式は `t0` から `t1` まで積分されます。\n",
    "\n",
    "**引数について**\n",
    "- 主な引数\n",
    "    - `Term`： 微分方程式の項。ベクトル場を指定。(非定常微分方程式(SDEs, CDEs)の場合、これはブラウン運動や制御も指定)\n",
    "    - `solver`： 微分方程式の解法。\n",
    "    - `t0`: 積分区間の開始点。\n",
    "    - `t1`: 積分区間の終了点。\n",
    "    - `dt0`： 最初のステップに使用するステップサイズ。固定ステップサイズを使用する場合、これは他のすべてのステップのステップサイズにもなります。(最後のステップを除き、若干小さくしてt1にクリップすることも可能)Noneに設定すると、最初のステップサイズが自動的に決定されます。\n",
    "    - `y0`: 初期値。\n",
    "    - `args`： ベクトル場に渡す追加の引数。\n",
    "    - `saveat`: 微分方程式の解を保存する時間。デフォルトは最後の時間 `t1` だけ。[`diffrax.SaveAt`](https://docs.kidger.site/diffrax/api/saveat/#diffrax.SaveAt)\n",
    "    - `stepize_controller`: 積分の進行に応じてステップサイズを変更する方法。ステップサイズコントローラーのリストを参照。デフォルトは固定された一定のステップサイズを使用する。[`stepsize_controller`](https://docs.kidger.site/diffrax/api/stepsize_controller/)\n",
    "- その他の引数\n",
    "    - `adjoint`: diffeqsolveを微分する方法。デフォルトは `discretise-then-optimise` で、ほとんどの問題では通常これが最適。[`Adjoints`](https://docs.kidger.site/diffrax/api/adjoints/)\n",
    "    - `discrete_terminating_event`： 解を早期に終了させる離散イベント。[`Events`](https://docs.kidger.site/diffrax/api/events/)\n",
    "    - `max_steps`： `saveat=SaveAt(steps=True)` や `saveat=SaveAt(dense=True)` とは互換性がないが、任意のステップ数を指定するために `None` を設定することも可能。\n",
    "    - `throw`： `True` の場合、統合に失敗するとエラーが発生する。エラーはCPUでのみ確実に発生することに注意。 `False` の場合、返される解オブジェクトは、何らかの失敗が起こったかどうかを示す結果フィールドを持つことになる。"
   ]
  },
  {
   "cell_type": "code",
   "execution_count": 6,
   "id": "a8649e22-522e-4378-bf22-0197680cd39e",
   "metadata": {},
   "outputs": [],
   "source": [
    "sol = diffeqsolve(term, solver, t0=0, t1=3, dt0=0.05, y0=1) # 解"
   ]
  },
  {
   "cell_type": "code",
   "execution_count": 7,
   "id": "035feb8c-2de6-4a04-8f99-08013c586a2e",
   "metadata": {},
   "outputs": [
    {
     "name": "stdout",
     "output_type": "stream",
     "text": [
      "[3.]\n",
      "[0.00012341]\n"
     ]
    }
   ],
   "source": [
    "print(sol.ts)  # DeviceArray([3.])\n",
    "print(sol.ys)  # DeviceArray([0.00012341])"
   ]
  },
  {
   "cell_type": "code",
   "execution_count": null,
   "id": "2c58a01c-907a-4322-b45d-188461709bdf",
   "metadata": {},
   "outputs": [],
   "source": []
  }
 ],
 "metadata": {
  "kernelspec": {
   "display_name": "Python 3 (ipykernel)",
   "language": "python",
   "name": "python3"
  },
  "language_info": {
   "codemirror_mode": {
    "name": "ipython",
    "version": 3
   },
   "file_extension": ".py",
   "mimetype": "text/x-python",
   "name": "python",
   "nbconvert_exporter": "python",
   "pygments_lexer": "ipython3",
   "version": "3.11.5"
  }
 },
 "nbformat": 4,
 "nbformat_minor": 5
}
