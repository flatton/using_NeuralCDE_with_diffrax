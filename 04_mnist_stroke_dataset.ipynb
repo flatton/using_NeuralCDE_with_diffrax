{
 "cells": [
  {
   "cell_type": "markdown",
   "id": "9d01b4ec-7c9c-4510-a688-19afeb1e333c",
   "metadata": {},
   "source": [
    "# [MNIST digits stroke sequence data](https://edwin-de-jong.github.io/blog/mnist-sequence-data/　)\n",
    "今回は、MNISTの手描き文字データセットを解析して、数字の筆順をピクセル座標の系列で表現したデータセットを使用する。\n",
    "ここでの筆順は必ずしも正確な筆順とは限らないが、少なくとも画像中の数字の形状に沿った系列データとなっている。"
   ]
  },
  {
   "cell_type": "code",
   "execution_count": 2,
   "id": "ef704fce-438e-4da7-9a84-3f67d36803c9",
   "metadata": {},
   "outputs": [
    {
     "name": "stderr",
     "output_type": "stream",
     "text": [
      "100%|███████████████████████████████████████████████████████████████████████████████████| 200/200 [00:03<00:00, 51.06it/s]\n"
     ]
    }
   ],
   "source": [
    "from tools._dataset.datasets import MNISTStrokeDataset\n",
    "dataset = MNISTStrokeDataset(200, True)\n",
    "ts, ys, coeffs, labels, in_size = dataset.make_dataset()"
   ]
  },
  {
   "cell_type": "code",
   "execution_count": 3,
   "id": "8bed4502-e5eb-4a41-ae6c-b956c77f57e1",
   "metadata": {},
   "outputs": [
    {
     "data": {
      "text/plain": [
       "Array([ 0,  1,  2,  3,  4,  5,  6,  7,  8,  9, 10, 11, 12, 13, 14, 15, 16,\n",
       "       17, 18], dtype=int32)"
      ]
     },
     "execution_count": 3,
     "metadata": {},
     "output_type": "execute_result"
    }
   ],
   "source": [
    "ts[0]"
   ]
  },
  {
   "cell_type": "code",
   "execution_count": 4,
   "id": "70ec6b72-43e5-495f-b24d-fd2c8534bbbe",
   "metadata": {},
   "outputs": [
    {
     "data": {
      "text/plain": [
       "Array([[ 0, 16,  6,  0,  0],\n",
       "       [ 1,  0,  1,  0,  0],\n",
       "       [ 2,  0,  1,  0,  0],\n",
       "       [ 3, -1,  1,  0,  0],\n",
       "       [ 4,  0,  1,  0,  0],\n",
       "       [ 5,  0,  1,  0,  0],\n",
       "       [ 6,  0,  1,  0,  0],\n",
       "       [ 7,  0,  1,  0,  0],\n",
       "       [ 8,  0,  1,  0,  0],\n",
       "       [ 9, -1,  1,  0,  0],\n",
       "       [10,  0,  1,  0,  0],\n",
       "       [11,  0,  1,  0,  0],\n",
       "       [12,  0,  1,  0,  0],\n",
       "       [13,  0,  1,  0,  0],\n",
       "       [14, -1,  1,  0,  0],\n",
       "       [15,  0,  1,  0,  0],\n",
       "       [16,  0,  1,  0,  0],\n",
       "       [17,  0,  1,  0,  0],\n",
       "       [18,  0,  0,  1,  1]], dtype=int32)"
      ]
     },
     "execution_count": 4,
     "metadata": {},
     "output_type": "execute_result"
    }
   ],
   "source": [
    "ys[0]"
   ]
  },
  {
   "cell_type": "code",
   "execution_count": 5,
   "id": "2a889653-cd9f-4dc7-a2d8-71bbc8eb8c11",
   "metadata": {},
   "outputs": [
    {
     "data": {
      "text/plain": [
       "(Array([[ -0.,  -0.,  -0.,  -0.,  -0.],\n",
       "        [ -0., -16.,  -5.,  -0.,  -0.],\n",
       "        [ -0.,   1.,  -0.,  -0.,  -0.],\n",
       "        [ -0.,  -2.,  -0.,  -0.,  -0.],\n",
       "        [ -0.,   1.,  -0.,  -0.,  -0.],\n",
       "        [ -0.,  -0.,  -0.,  -0.,  -0.],\n",
       "        [ -0.,  -0.,  -0.,  -0.,  -0.],\n",
       "        [ -0.,  -0.,  -0.,  -0.,  -0.],\n",
       "        [ -0.,   1.,  -0.,  -0.,  -0.],\n",
       "        [ -0.,  -2.,  -0.,  -0.,  -0.],\n",
       "        [ -0.,   1.,  -0.,  -0.,  -0.],\n",
       "        [ -0.,  -0.,  -0.,  -0.,  -0.],\n",
       "        [ -0.,  -0.,  -0.,  -0.,  -0.],\n",
       "        [ -0.,   1.,  -0.,  -0.,  -0.],\n",
       "        [ -0.,  -2.,  -0.,  -0.,  -0.],\n",
       "        [ -0.,   1.,  -0.,  -0.,  -0.],\n",
       "        [ -0.,  -0.,  -0.,  -0.,  -0.],\n",
       "        [ -0.,  -0.,   1.,  -1.,  -1.]], dtype=float32),\n",
       " Array([[ 0.,  0.,  0.,  0.,  0.],\n",
       "        [ 0., 32., 10.,  0.,  0.],\n",
       "        [ 0., -2.,  0.,  0.,  0.],\n",
       "        [ 0.,  4.,  0.,  0.,  0.],\n",
       "        [ 0., -2.,  0.,  0.,  0.],\n",
       "        [ 0.,  0.,  0.,  0.,  0.],\n",
       "        [ 0.,  0.,  0.,  0.,  0.],\n",
       "        [ 0.,  0.,  0.,  0.,  0.],\n",
       "        [ 0., -2.,  0.,  0.,  0.],\n",
       "        [ 0.,  4.,  0.,  0.,  0.],\n",
       "        [ 0., -2.,  0.,  0.,  0.],\n",
       "        [ 0.,  0.,  0.,  0.,  0.],\n",
       "        [ 0.,  0.,  0.,  0.,  0.],\n",
       "        [ 0., -2.,  0.,  0.,  0.],\n",
       "        [ 0.,  4.,  0.,  0.,  0.],\n",
       "        [ 0., -2.,  0.,  0.,  0.],\n",
       "        [ 0.,  0.,  0.,  0.,  0.],\n",
       "        [ 0.,  0., -2.,  2.,  2.]], dtype=float32),\n",
       " Array([[  1., -16.,  -5.,   0.,   0.],\n",
       "        [  1., -16.,  -5.,   0.,   0.],\n",
       "        [  1.,   0.,   0.,   0.,   0.],\n",
       "        [  1.,  -1.,   0.,   0.,   0.],\n",
       "        [  1.,   1.,   0.,   0.,   0.],\n",
       "        [  1.,   0.,   0.,   0.,   0.],\n",
       "        [  1.,   0.,   0.,   0.,   0.],\n",
       "        [  1.,   0.,   0.,   0.,   0.],\n",
       "        [  1.,   0.,   0.,   0.,   0.],\n",
       "        [  1.,  -1.,   0.,   0.,   0.],\n",
       "        [  1.,   1.,   0.,   0.,   0.],\n",
       "        [  1.,   0.,   0.,   0.,   0.],\n",
       "        [  1.,   0.,   0.,   0.,   0.],\n",
       "        [  1.,   0.,   0.,   0.,   0.],\n",
       "        [  1.,  -1.,   0.,   0.,   0.],\n",
       "        [  1.,   1.,   0.,   0.,   0.],\n",
       "        [  1.,   0.,   0.,   0.,   0.],\n",
       "        [  1.,   0.,   0.,   0.,   0.]], dtype=float32),\n",
       " Array([[ 0., 16.,  6.,  0.,  0.],\n",
       "        [ 1.,  0.,  1.,  0.,  0.],\n",
       "        [ 2.,  0.,  1.,  0.,  0.],\n",
       "        [ 3., -1.,  1.,  0.,  0.],\n",
       "        [ 4.,  0.,  1.,  0.,  0.],\n",
       "        [ 5.,  0.,  1.,  0.,  0.],\n",
       "        [ 6.,  0.,  1.,  0.,  0.],\n",
       "        [ 7.,  0.,  1.,  0.,  0.],\n",
       "        [ 8.,  0.,  1.,  0.,  0.],\n",
       "        [ 9., -1.,  1.,  0.,  0.],\n",
       "        [10.,  0.,  1.,  0.,  0.],\n",
       "        [11.,  0.,  1.,  0.,  0.],\n",
       "        [12.,  0.,  1.,  0.,  0.],\n",
       "        [13.,  0.,  1.,  0.,  0.],\n",
       "        [14., -1.,  1.,  0.,  0.],\n",
       "        [15.,  0.,  1.,  0.,  0.],\n",
       "        [16.,  0.,  1.,  0.,  0.],\n",
       "        [17.,  0.,  1.,  0.,  0.]], dtype=float32))"
      ]
     },
     "execution_count": 5,
     "metadata": {},
     "output_type": "execute_result"
    }
   ],
   "source": [
    "coeffs[0]"
   ]
  },
  {
   "cell_type": "code",
   "execution_count": 6,
   "id": "7d3fde05-cc21-433e-9e02-100bb4f973b0",
   "metadata": {},
   "outputs": [
    {
     "data": {
      "text/plain": [
       "[Array(5, dtype=int32)]"
      ]
     },
     "execution_count": 6,
     "metadata": {},
     "output_type": "execute_result"
    }
   ],
   "source": [
    "labels[0]"
   ]
  },
  {
   "cell_type": "code",
   "execution_count": 7,
   "id": "936849fd-2f48-42f1-bc1c-41d6d7e79d3a",
   "metadata": {},
   "outputs": [
    {
     "data": {
      "text/plain": [
       "5"
      ]
     },
     "execution_count": 7,
     "metadata": {},
     "output_type": "execute_result"
    }
   ],
   "source": [
    "in_size"
   ]
  },
  {
   "cell_type": "code",
   "execution_count": null,
   "id": "d13927af-76ae-459a-8fe9-72c2a4ab04d5",
   "metadata": {},
   "outputs": [],
   "source": []
  }
 ],
 "metadata": {
  "kernelspec": {
   "display_name": "Python 3 (ipykernel)",
   "language": "python",
   "name": "python3"
  },
  "language_info": {
   "codemirror_mode": {
    "name": "ipython",
    "version": 3
   },
   "file_extension": ".py",
   "mimetype": "text/x-python",
   "name": "python",
   "nbconvert_exporter": "python",
   "pygments_lexer": "ipython3",
   "version": "3.11.5"
  }
 },
 "nbformat": 4,
 "nbformat_minor": 5
}
