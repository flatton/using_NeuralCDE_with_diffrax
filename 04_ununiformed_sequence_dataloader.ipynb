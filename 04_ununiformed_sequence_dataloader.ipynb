{
 "cells": [
  {
   "cell_type": "markdown",
   "id": "9d01b4ec-7c9c-4510-a688-19afeb1e333c",
   "metadata": {},
   "source": [
    "# [MNIST digits stroke sequence data](https://edwin-de-jong.github.io/blog/mnist-sequence-data/　)\n",
    "今回は、MNISTの手描き文字データセットを解析して、数字の筆順をピクセル座標の系列で表現したデータセットを使用する。\n",
    "ここでの筆順は必ずしも正確な筆順とは限らないが、少なくとも画像中の数字の形状に沿った系列データとなっている。"
   ]
  },
  {
   "cell_type": "code",
   "execution_count": 1,
   "id": "ef704fce-438e-4da7-9a84-3f67d36803c9",
   "metadata": {},
   "outputs": [
    {
     "name": "stderr",
     "output_type": "stream",
     "text": [
      "/Users/tomoki.fujihara/Desktop/test_diffrax/test_diffrax/.venv/lib/python3.11/site-packages/pydantic/_internal/_model_construction.py:54: UserWarning: `validate_input_format` overrides an existing Pydantic `@field_validator` decorator\n",
      "  warnings.warn(f'`{k}` overrides an existing Pydantic `{existing.decorator_info.decorator_repr}` decorator')\n"
     ]
    }
   ],
   "source": [
    "import jax\n",
    "import jax.lax as lax\n",
    "import jax.numpy as jnp\n",
    "import jax.random as jr\n",
    "import diffrax\n",
    "import equinox as eqx\n",
    "\n",
    "from tools._dataset.datasets import MNISTStrokeDataset\n",
    "from tools._dataset.dataloader import dataloader_ununiformed_sequence"
   ]
  },
  {
   "cell_type": "code",
   "execution_count": 2,
   "id": "6641d35c-14a5-428a-a74b-edcf17e63f24",
   "metadata": {},
   "outputs": [
    {
     "name": "stdout",
     "output_type": "stream",
     "text": [
      "['./dataset/sequences/trainimg-0-points.txt', './dataset/sequences/trainimg-1-points.txt', './dataset/sequences/trainimg-2-points.txt', './dataset/sequences/trainimg-3-points.txt', './dataset/sequences/trainimg-4-points.txt', './dataset/sequences/trainimg-5-points.txt', './dataset/sequences/trainimg-6-points.txt', './dataset/sequences/trainimg-7-points.txt', './dataset/sequences/trainimg-8-points.txt', './dataset/sequences/trainimg-9-points.txt', './dataset/sequences/trainimg-10-points.txt', './dataset/sequences/trainimg-11-points.txt', './dataset/sequences/trainimg-12-points.txt', './dataset/sequences/trainimg-13-points.txt', './dataset/sequences/trainimg-14-points.txt', './dataset/sequences/trainimg-15-points.txt', './dataset/sequences/trainimg-16-points.txt', './dataset/sequences/trainimg-17-points.txt', './dataset/sequences/trainimg-18-points.txt', './dataset/sequences/trainimg-19-points.txt', './dataset/sequences/trainimg-20-points.txt', './dataset/sequences/trainimg-21-points.txt', './dataset/sequences/trainimg-22-points.txt', './dataset/sequences/trainimg-23-points.txt', './dataset/sequences/trainimg-24-points.txt', './dataset/sequences/trainimg-25-points.txt', './dataset/sequences/trainimg-26-points.txt', './dataset/sequences/trainimg-27-points.txt', './dataset/sequences/trainimg-28-points.txt', './dataset/sequences/trainimg-29-points.txt', './dataset/sequences/trainimg-30-points.txt', './dataset/sequences/trainimg-31-points.txt', './dataset/sequences/trainimg-32-points.txt', './dataset/sequences/trainimg-33-points.txt', './dataset/sequences/trainimg-34-points.txt', './dataset/sequences/trainimg-35-points.txt', './dataset/sequences/trainimg-36-points.txt', './dataset/sequences/trainimg-37-points.txt', './dataset/sequences/trainimg-38-points.txt', './dataset/sequences/trainimg-39-points.txt', './dataset/sequences/trainimg-40-points.txt', './dataset/sequences/trainimg-41-points.txt', './dataset/sequences/trainimg-42-points.txt', './dataset/sequences/trainimg-43-points.txt', './dataset/sequences/trainimg-44-points.txt', './dataset/sequences/trainimg-45-points.txt', './dataset/sequences/trainimg-46-points.txt', './dataset/sequences/trainimg-47-points.txt', './dataset/sequences/trainimg-48-points.txt', './dataset/sequences/trainimg-49-points.txt']\n",
      "['./dataset/sequences/trainimg-59950-points.txt', './dataset/sequences/trainimg-59951-points.txt', './dataset/sequences/trainimg-59952-points.txt', './dataset/sequences/trainimg-59953-points.txt', './dataset/sequences/trainimg-59954-points.txt', './dataset/sequences/trainimg-59955-points.txt', './dataset/sequences/trainimg-59956-points.txt', './dataset/sequences/trainimg-59957-points.txt', './dataset/sequences/trainimg-59958-points.txt', './dataset/sequences/trainimg-59959-points.txt', './dataset/sequences/trainimg-59960-points.txt', './dataset/sequences/trainimg-59961-points.txt', './dataset/sequences/trainimg-59962-points.txt', './dataset/sequences/trainimg-59963-points.txt', './dataset/sequences/trainimg-59964-points.txt', './dataset/sequences/trainimg-59965-points.txt', './dataset/sequences/trainimg-59966-points.txt', './dataset/sequences/trainimg-59967-points.txt', './dataset/sequences/trainimg-59968-points.txt', './dataset/sequences/trainimg-59969-points.txt', './dataset/sequences/trainimg-59970-points.txt', './dataset/sequences/trainimg-59971-points.txt', './dataset/sequences/trainimg-59972-points.txt', './dataset/sequences/trainimg-59973-points.txt', './dataset/sequences/trainimg-59974-points.txt', './dataset/sequences/trainimg-59975-points.txt', './dataset/sequences/trainimg-59976-points.txt', './dataset/sequences/trainimg-59977-points.txt', './dataset/sequences/trainimg-59978-points.txt', './dataset/sequences/trainimg-59979-points.txt', './dataset/sequences/trainimg-59980-points.txt', './dataset/sequences/trainimg-59981-points.txt', './dataset/sequences/trainimg-59982-points.txt', './dataset/sequences/trainimg-59983-points.txt', './dataset/sequences/trainimg-59984-points.txt', './dataset/sequences/trainimg-59985-points.txt', './dataset/sequences/trainimg-59986-points.txt', './dataset/sequences/trainimg-59987-points.txt', './dataset/sequences/trainimg-59988-points.txt', './dataset/sequences/trainimg-59989-points.txt', './dataset/sequences/trainimg-59990-points.txt', './dataset/sequences/trainimg-59991-points.txt', './dataset/sequences/trainimg-59992-points.txt', './dataset/sequences/trainimg-59993-points.txt', './dataset/sequences/trainimg-59994-points.txt', './dataset/sequences/trainimg-59995-points.txt', './dataset/sequences/trainimg-59996-points.txt', './dataset/sequences/trainimg-59997-points.txt', './dataset/sequences/trainimg-59998-points.txt', './dataset/sequences/trainimg-59999-points.txt']\n"
     ]
    },
    {
     "name": "stderr",
     "output_type": "stream",
     "text": [
      "100%|███████████████████████████████████████████| 64/64 [00:06<00:00,  9.15it/s]\n"
     ]
    }
   ],
   "source": [
    "key = jr.PRNGKey(12)\n",
    "dataset = MNISTStrokeDataset(dataset_size=64, mode_train=True, input_format='point_sequence', noise_ratio=0.2, interpolation='cubic', key=key)\n",
    "ts, ys, coeffs, labels, in_size = dataset.make_dataset()"
   ]
  },
  {
   "cell_type": "code",
   "execution_count": 3,
   "id": "8bed4502-e5eb-4a41-ae6c-b956c77f57e1",
   "metadata": {},
   "outputs": [
    {
     "data": {
      "text/plain": [
       "(46,)"
      ]
     },
     "execution_count": 3,
     "metadata": {},
     "output_type": "execute_result"
    }
   ],
   "source": [
    "ts[0].shape"
   ]
  },
  {
   "cell_type": "code",
   "execution_count": 4,
   "id": "f946f246-d43b-4cc7-a1c1-79ff10a82c17",
   "metadata": {},
   "outputs": [
    {
     "data": {
      "text/plain": [
       "Array([0.01421267, 0.01521267, 0.01621267, 0.01721267, 0.01821267,\n",
       "       0.01921267, 0.02021267, 0.02121267, 0.02221267, 0.02321267,\n",
       "       0.02421267, 0.02521267, 0.02621267, 0.02762689, 0.05166852,\n",
       "       0.07313943, 0.09461034, 0.11241484, 0.11341484, 0.11441484,\n",
       "       0.11582906, 0.11682906, 0.11782906, 0.11924328, 0.1206575 ,\n",
       "       0.1216575 , 0.1226575 , 0.12407172, 0.12548593, 0.12648593,\n",
       "       0.12748593, 0.12848593, 0.12948593, 0.13048594, 0.13148594,\n",
       "       0.13248594, 0.13348594, 0.13448595, 0.13548595, 0.13648595,\n",
       "       0.13748595, 0.13848595, 0.13948596, 0.14048596, 0.14148596,\n",
       "       0.1689996 ], dtype=float32)"
      ]
     },
     "execution_count": 4,
     "metadata": {},
     "output_type": "execute_result"
    }
   ],
   "source": [
    "ts[0]"
   ]
  },
  {
   "cell_type": "code",
   "execution_count": 5,
   "id": "70ec6b72-43e5-495f-b24d-fd2c8534bbbe",
   "metadata": {},
   "outputs": [
    {
     "data": {
      "text/plain": [
       "(46, 3)"
      ]
     },
     "execution_count": 5,
     "metadata": {},
     "output_type": "execute_result"
    }
   ],
   "source": [
    "ys[0].shape"
   ]
  },
  {
   "cell_type": "code",
   "execution_count": 6,
   "id": "dcd1ceed-0d06-4983-b813-db8dc6eeaabe",
   "metadata": {},
   "outputs": [
    {
     "data": {
      "text/plain": [
       "Array([[ 1.42126707e-02,  1.10000000e+01,  9.00000000e+00],\n",
       "       [ 1.52126709e-02,  1.20000000e+01,             nan],\n",
       "       [ 1.62126701e-02,  1.30000000e+01,             nan],\n",
       "       [ 1.72126703e-02,  1.30000000e+01,  8.00000000e+00],\n",
       "       [ 1.82126705e-02,  1.40000000e+01,  8.00000000e+00],\n",
       "       [ 1.92126706e-02,  1.50000000e+01,  8.00000000e+00],\n",
       "       [ 2.02126708e-02,  1.60000000e+01,  8.00000000e+00],\n",
       "       [ 2.12126710e-02,  1.70000000e+01,             nan],\n",
       "       [ 2.22126711e-02,  1.70000000e+01,             nan],\n",
       "       [ 2.32126713e-02,  1.80000000e+01,             nan],\n",
       "       [ 2.42126714e-02,  1.90000000e+01,  7.00000000e+00],\n",
       "       [ 2.52126716e-02,  2.00000000e+01,  7.00000000e+00],\n",
       "       [ 2.62126718e-02,  2.10000000e+01,  7.00000000e+00],\n",
       "       [ 2.76268851e-02,  2.20000000e+01,  6.00000000e+00],\n",
       "       [ 5.16685173e-02, -1.00000000e+00, -1.00000000e+00],\n",
       "       [ 7.31394291e-02,             nan,  9.00000000e+00],\n",
       "       [ 9.46103409e-02, -1.00000000e+00,             nan],\n",
       "       [ 1.12414837e-01,  1.30000000e+01,             nan],\n",
       "       [ 1.13414839e-01,  1.30000000e+01,  1.10000000e+01],\n",
       "       [ 1.14414841e-01,  1.30000000e+01,  1.20000000e+01],\n",
       "       [ 1.15829058e-01,  1.40000000e+01,  1.30000000e+01],\n",
       "       [ 1.16829060e-01,  1.40000000e+01,  1.40000000e+01],\n",
       "       [ 1.17829062e-01,             nan,  1.40000000e+01],\n",
       "       [ 1.19243279e-01,             nan,  1.50000000e+01],\n",
       "       [ 1.20657496e-01,  1.70000000e+01,  1.60000000e+01],\n",
       "       [ 1.21657498e-01,  1.80000000e+01,  1.60000000e+01],\n",
       "       [ 1.22657500e-01,  1.80000000e+01,  1.70000000e+01],\n",
       "       [ 1.24071717e-01,  1.90000000e+01,  1.80000000e+01],\n",
       "       [ 1.25485927e-01,  1.80000000e+01,  1.90000000e+01],\n",
       "       [ 1.26485929e-01,             nan,             nan],\n",
       "       [ 1.27485931e-01,  1.70000000e+01,             nan],\n",
       "       [ 1.28485933e-01,  1.60000000e+01,  2.00000000e+01],\n",
       "       [ 1.29485935e-01,  1.60000000e+01,  2.10000000e+01],\n",
       "       [ 1.30485937e-01,  1.50000000e+01,  2.10000000e+01],\n",
       "       [ 1.31485939e-01,  1.40000000e+01,  2.10000000e+01],\n",
       "       [ 1.32485941e-01,  1.40000000e+01,  2.20000000e+01],\n",
       "       [ 1.33485943e-01,             nan,             nan],\n",
       "       [ 1.34485945e-01,  1.20000000e+01,  2.20000000e+01],\n",
       "       [ 1.35485947e-01,  1.20000000e+01,  2.30000000e+01],\n",
       "       [ 1.36485949e-01,  1.10000000e+01,             nan],\n",
       "       [ 1.37485951e-01,  1.00000000e+01,  2.30000000e+01],\n",
       "       [ 1.38485953e-01,  9.00000000e+00,  2.30000000e+01],\n",
       "       [ 1.39485955e-01,             nan,  2.40000000e+01],\n",
       "       [ 1.40485957e-01,  8.00000000e+00,  2.40000000e+01],\n",
       "       [ 1.41485959e-01,  7.00000000e+00,  2.40000000e+01],\n",
       "       [ 1.68999597e-01,             nan, -2.00000000e+00]],      dtype=float32)"
      ]
     },
     "execution_count": 6,
     "metadata": {},
     "output_type": "execute_result"
    }
   ],
   "source": [
    "ys[0]"
   ]
  },
  {
   "cell_type": "code",
   "execution_count": 7,
   "id": "7d3fde05-cc21-433e-9e02-100bb4f973b0",
   "metadata": {},
   "outputs": [
    {
     "data": {
      "text/plain": [
       "(64, 1)"
      ]
     },
     "execution_count": 7,
     "metadata": {},
     "output_type": "execute_result"
    }
   ],
   "source": [
    "labels.shape"
   ]
  },
  {
   "cell_type": "code",
   "execution_count": 8,
   "id": "e4cbbe72-1eb9-47ec-a952-aec5ed409c75",
   "metadata": {},
   "outputs": [
    {
     "data": {
      "text/plain": [
       "Array([5.], dtype=float32)"
      ]
     },
     "execution_count": 8,
     "metadata": {},
     "output_type": "execute_result"
    }
   ],
   "source": [
    "labels[0]"
   ]
  },
  {
   "cell_type": "code",
   "execution_count": 9,
   "id": "936849fd-2f48-42f1-bc1c-41d6d7e79d3a",
   "metadata": {},
   "outputs": [
    {
     "data": {
      "text/plain": [
       "3"
      ]
     },
     "execution_count": 9,
     "metadata": {},
     "output_type": "execute_result"
    }
   ],
   "source": [
    "in_size"
   ]
  },
  {
   "cell_type": "code",
   "execution_count": 10,
   "id": "55c8f11a-880a-4bf7-b6a6-1151fc9817a9",
   "metadata": {},
   "outputs": [
    {
     "name": "stdout",
     "output_type": "stream",
     "text": [
      "<class 'tuple'> 64 (45, 3)\n",
      "<class 'tuple'> 64 (45, 3)\n",
      "<class 'tuple'> 64 (45, 3)\n",
      "<class 'tuple'> 64 (45, 3)\n"
     ]
    }
   ],
   "source": [
    "for i in range(4):\n",
    "    print(type(coeffs), len(coeffs[i]), coeffs[i][0].shape)"
   ]
  },
  {
   "cell_type": "code",
   "execution_count": 11,
   "id": "9c66b37d-011e-4713-8463-a8cbda6bf51e",
   "metadata": {},
   "outputs": [],
   "source": [
    "def main(ts, ys, coeffs, labels, in_size):\n",
    "    steps = 1\n",
    "    batch_size = 10\n",
    "    loader_key = jr.PRNGKey(12)\n",
    "\n",
    "    def test_interpolation(data):\n",
    "        ts, *coeffs = data\n",
    "        control = diffrax.CubicInterpolation(ts, coeffs)\n",
    "        y0 = control.evaluate(ts[0])\n",
    "        delta = jax.vmap(control.evaluate)(ts[:-1], ts[1:])\n",
    "        def _f(yi0, delta):\n",
    "            yi1 = yi0 + delta\n",
    "            return yi1, yi1\n",
    "        _, ys = lax.scan(_f, y0, delta)\n",
    "        ys = jnp.concatenate((y0[None, :], ys), axis=0)\n",
    "        return ys\n",
    "\n",
    "    eqx.clear_caches()\n",
    "    jax.clear_caches()\n",
    "    \n",
    "    for step, data in zip(range(steps), dataloader_ununiformed_sequence(((ts, ys, *coeffs), labels), batch_size, key=loader_key)):\n",
    "        _ts, _ys, *_coeffs, _labels = data\n",
    "        print(_ts.shape, _labels.shape, len(_coeffs), _coeffs[1].shape)\n",
    "        interp_ys = jax.vmap(test_interpolation)((_ts, *_coeffs))\n",
    "        print(_labels[0][0])\n",
    "        print(_ys.shape, interp_ys.shape)\n",
    "        print(_ys[0])\n",
    "        print(interp_ys[0])"
   ]
  },
  {
   "cell_type": "code",
   "execution_count": 12,
   "id": "5299e4ba-dc13-4dd9-a3bd-ca86eb4b022e",
   "metadata": {},
   "outputs": [
    {
     "name": "stdout",
     "output_type": "stream",
     "text": [
      "(10, 50) (10, 1) 4 (10, 49, 3)\n",
      "4.0\n",
      "(10, 50, 3) (10, 50, 3)\n",
      "[[ 1.92353856e-02  1.70000000e+01  9.00000000e+00]\n",
      " [ 2.02353857e-02  1.70000000e+01             nan]\n",
      " [ 2.12353859e-02  1.70000000e+01             nan]\n",
      " [ 2.22353861e-02  1.60000000e+01  1.10000000e+01]\n",
      " [ 2.32353862e-02  1.60000000e+01  1.20000000e+01]\n",
      " [ 2.42353864e-02  1.60000000e+01  1.30000000e+01]\n",
      " [ 2.52353866e-02  1.60000000e+01  1.40000000e+01]\n",
      " [ 2.62353867e-02  1.60000000e+01             nan]\n",
      " [ 2.72353869e-02  1.50000000e+01             nan]\n",
      " [ 2.82353871e-02  1.50000000e+01             nan]\n",
      " [ 2.96496004e-02  1.40000000e+01  1.70000000e+01]\n",
      " [ 3.06496006e-02  1.40000000e+01  1.80000000e+01]\n",
      " [ 3.16496007e-02  1.40000000e+01  1.90000000e+01]\n",
      " [ 3.30638140e-02  1.30000000e+01  2.00000000e+01]\n",
      " [ 3.40638123e-02  1.30000000e+01  2.10000000e+01]\n",
      " [ 3.54780257e-02             nan  2.20000000e+01]\n",
      " [ 3.64780240e-02  1.20000000e+01             nan]\n",
      " [ 3.74780223e-02  1.10000000e+01             nan]\n",
      " [ 3.84780206e-02  1.10000000e+01  2.40000000e+01]\n",
      " [ 3.98922339e-02  1.00000000e+01  2.50000000e+01]\n",
      " [ 4.08922322e-02  1.00000000e+01  2.60000000e+01]\n",
      " [ 4.18922305e-02  1.00000000e+01  2.70000000e+01]\n",
      " [ 7.19754472e-02             nan -1.00000000e+00]\n",
      " [ 9.32357386e-02             nan  1.50000000e+01]\n",
      " [ 9.42357406e-02  1.40000000e+01  1.50000000e+01]\n",
      " [ 9.56499577e-02  1.30000000e+01  1.40000000e+01]\n",
      " [ 9.66499597e-02  1.30000000e+01  1.30000000e+01]\n",
      " [ 9.76499617e-02  1.30000000e+01  1.20000000e+01]\n",
      " [ 9.90641788e-02  1.40000000e+01  1.10000000e+01]\n",
      " [ 1.00064181e-01             nan             nan]\n",
      " [ 1.20064184e-01 -1.00000000e+00             nan]\n",
      " [ 1.44147366e-01  1.70000000e+01  1.50000000e+01]\n",
      " [ 1.45147368e-01  1.80000000e+01  1.50000000e+01]\n",
      " [ 1.46147370e-01  1.90000000e+01  1.50000000e+01]\n",
      " [ 1.47147372e-01  2.00000000e+01  1.50000000e+01]\n",
      " [ 1.48147374e-01  2.10000000e+01  1.50000000e+01]\n",
      " [ 1.49147376e-01             nan             nan]\n",
      " [ 1.50561586e-01  2.30000000e+01  1.60000000e+01]\n",
      " [ 1.51975796e-01  2.40000000e+01  1.70000000e+01]\n",
      " [ 1.52975798e-01  2.40000000e+01             nan]\n",
      " [ 1.84376433e-01 -1.00000000e+00 -1.00000000e+00]\n",
      " [ 2.12554440e-01  2.40000000e+01  1.20000000e+01]\n",
      " [ 2.13554442e-01             nan  1.10000000e+01]\n",
      " [ 2.14554444e-01  2.40000000e+01  1.00000000e+01]\n",
      " [ 2.15554446e-01  2.40000000e+01  9.00000000e+00]\n",
      " [ 2.43785635e-01             nan -2.00000000e+00]\n",
      " [ 2.43785635e-01             nan -2.00000000e+00]\n",
      " [ 2.43785635e-01             nan -2.00000000e+00]\n",
      " [ 2.43785635e-01             nan -2.00000000e+00]\n",
      " [ 2.43785635e-01             nan -2.00000000e+00]]\n",
      "[[ 0.00000000e+00  0.00000000e+00  0.00000000e+00]\n",
      " [ 2.02353857e-02  1.70000000e+01  3.66666651e+00]\n",
      " [ 2.12353859e-02  1.70000000e+01  7.33333349e+00]\n",
      " [ 2.22353861e-02  1.60000000e+01  1.10000000e+01]\n",
      " [ 2.32353862e-02  1.60000000e+01  1.20000000e+01]\n",
      " [ 2.42353864e-02  1.60000000e+01  1.30000000e+01]\n",
      " [ 2.52353866e-02  1.60000000e+01  1.40000000e+01]\n",
      " [ 2.62353867e-02  1.60000000e+01  1.48712845e+01]\n",
      " [ 2.72353869e-02  1.50000000e+01  1.55625334e+01]\n",
      " [ 2.82353871e-02  1.50000000e+01  1.61567841e+01]\n",
      " [ 2.96496004e-02  1.40000000e+01  1.70000000e+01]\n",
      " [ 3.06496006e-02  1.40000000e+01  1.80000000e+01]\n",
      " [ 3.16496007e-02  1.40000000e+01  1.90000000e+01]\n",
      " [ 3.30638140e-02  1.30000000e+01  2.00000000e+01]\n",
      " [ 3.40638123e-02  1.30000000e+01  2.10000000e+01]\n",
      " [ 3.54780257e-02  1.25147181e+01  2.20000000e+01]\n",
      " [ 3.64780240e-02  1.20000000e+01  2.26846390e+01]\n",
      " [ 3.74780223e-02  1.10000000e+01  2.33445663e+01]\n",
      " [ 3.84780206e-02  1.10000000e+01  2.40000000e+01]\n",
      " [ 3.98922339e-02  1.00000000e+01  2.50000000e+01]\n",
      " [ 4.08922322e-02  1.00000000e+01  2.60000000e+01]\n",
      " [ 4.18922305e-02  1.00000000e+01  2.70000000e+01]\n",
      " [ 7.19754472e-02  1.18831329e+01 -9.99994278e-01]\n",
      " [ 9.32357386e-02  1.39051123e+01  1.50000000e+01]\n",
      " [ 9.42357406e-02  1.40000000e+01  1.50000000e+01]\n",
      " [ 9.56499577e-02  1.30000000e+01  1.40000000e+01]\n",
      " [ 9.66499597e-02  1.30000000e+01  1.30000000e+01]\n",
      " [ 9.76499617e-02  1.30000000e+01  1.20000000e+01]\n",
      " [ 9.90641788e-02  1.40000000e+01  1.10000000e+01]\n",
      " [ 1.00064181e-01  1.45749588e+01  1.03278074e+01]\n",
      " [ 1.20064184e-01 -1.00000095e+00  8.00853920e+00]\n",
      " [ 1.44147366e-01  1.70000000e+01  1.50000000e+01]\n",
      " [ 1.45147368e-01  1.80000019e+01  1.50000000e+01]\n",
      " [ 1.46147370e-01  1.90000019e+01  1.50000000e+01]\n",
      " [ 1.47147372e-01  2.00000019e+01  1.50000000e+01]\n",
      " [ 1.48147374e-01  2.10000019e+01  1.50000000e+01]\n",
      " [ 1.49147376e-01  2.18873043e+01  1.52720795e+01]\n",
      " [ 1.50561586e-01  2.30000019e+01  1.60000000e+01]\n",
      " [ 1.51975796e-01  2.40000019e+01  1.70000000e+01]\n",
      " [ 1.52975798e-01  2.40000019e+01  1.76303730e+01]\n",
      " [ 1.84376433e-01 -9.99998093e-01 -1.00000191e+00]\n",
      " [ 2.12554440e-01  2.40000000e+01  1.20000038e+01]\n",
      " [ 2.13554442e-01  2.42218075e+01  1.10000000e+01]\n",
      " [ 2.14554444e-01  2.40000019e+01  1.00000000e+01]\n",
      " [ 2.15554446e-01  2.40000019e+01  9.00000000e+00]\n",
      " [ 2.43785635e-01  2.40000019e+01 -2.00000095e+00]\n",
      " [ 2.43785635e-01  2.40000019e+01 -2.00000095e+00]\n",
      " [ 2.43785635e-01  2.40000019e+01 -2.00000095e+00]\n",
      " [ 2.43785635e-01  2.40000019e+01 -2.00000095e+00]\n",
      " [ 2.43785635e-01  2.40000019e+01 -2.00000095e+00]]\n"
     ]
    }
   ],
   "source": [
    "main(ts, ys, coeffs, labels, in_size)"
   ]
  },
  {
   "cell_type": "code",
   "execution_count": null,
   "id": "6b65d4df-9b49-4930-adcd-170950bba23b",
   "metadata": {},
   "outputs": [],
   "source": []
  }
 ],
 "metadata": {
  "kernelspec": {
   "display_name": "Python 3 (ipykernel)",
   "language": "python",
   "name": "python3"
  },
  "language_info": {
   "codemirror_mode": {
    "name": "ipython",
    "version": 3
   },
   "file_extension": ".py",
   "mimetype": "text/x-python",
   "name": "python",
   "nbconvert_exporter": "python",
   "pygments_lexer": "ipython3",
   "version": "3.11.5"
  }
 },
 "nbformat": 4,
 "nbformat_minor": 5
}
