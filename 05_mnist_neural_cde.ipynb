{
 "cells": [
  {
   "cell_type": "markdown",
   "id": "3b81bf40-bd03-4910-bd8d-4768b6150d34",
   "metadata": {},
   "source": [
    "# [Neural CDE](https://docs.kidger.site/diffrax/examples/neural_cde/)\n",
    "Neural CDE は次のような式で表現されるモデルである。\n",
    "\n",
    "$$y(t) = y(0) + \\int_0^t f_\\theta(y(s)) \\frac{\\mathrm{d}x}{\\mathrm{d}s}(s) \\mathrm{d}s$$\n",
    "\n",
    "ここでは、 Neural CDE を用いて時計回りの渦と、反時計回りの渦の分類を行う。"
   ]
  },
  {
   "cell_type": "code",
   "execution_count": 4,
   "id": "e6d07437-f38a-4448-91f6-05d19c5633f7",
   "metadata": {},
   "outputs": [],
   "source": [
    "import math\n",
    "import time\n",
    "from typing import Sequence, Tuple, Union, Callable, Optional\n",
    "\n",
    "import diffrax\n",
    "import equinox as eqx  # https://github.com/patrick-kidger/equinox\n",
    "import jax\n",
    "import jax.lax as lax\n",
    "import jax.nn as jnn\n",
    "import jax.numpy as jnp\n",
    "import jax.random as jr\n",
    "import jax.scipy as jsp\n",
    "from jaxtyping import Array, Float, PRNGKeyArray\n",
    "import matplotlib\n",
    "import matplotlib.pyplot as plt\n",
    "import optax  # https://github.com/deepmind/optax\n",
    "from memory_profiler import memory_usage\n",
    "\n",
    "from tools._dataset.datasets import MNISTStrokeDataset\n",
    "from tools._dataset.dataloader import dataloader_ununiformed_sequence\n",
    "from tools._model.neural_cde import NeuralCDE\n",
    "from tools._loss.cross_entropy import nll_loss"
   ]
  },
  {
   "cell_type": "code",
   "execution_count": 5,
   "id": "455c1fe7-d276-4b3f-b09e-087a95fb1aa5",
   "metadata": {},
   "outputs": [],
   "source": [
    "%load_ext memray"
   ]
  },
  {
   "cell_type": "markdown",
   "id": "4c3d845f-2bba-4617-add9-1ce7ac97a85d",
   "metadata": {},
   "source": [
    "# Train and Eval"
   ]
  },
  {
   "cell_type": "code",
   "execution_count": 6,
   "id": "43cb3a69-ed28-4fa0-ab69-338841a3a1cb",
   "metadata": {},
   "outputs": [],
   "source": [
    "def main(\n",
    "    dataset_size=128,\n",
    "    noise_ratio=0.1,\n",
    "    input_format='point_sequence',\n",
    "    interpolation='cubic',\n",
    "    out_size=10,\n",
    "    batch_size=32,\n",
    "    lr=3e-3,\n",
    "    steps=50,\n",
    "    hidden_size=8,\n",
    "    width_size=128,\n",
    "    depth=3,\n",
    "    seed=5678,\n",
    "):\n",
    "    key = jr.PRNGKey(seed)\n",
    "    train_data_key, test_data_key, model_key, loader_key, test_loss_key = jr.split(key, 5)\n",
    "\n",
    "    dataset = MNISTStrokeDataset(dataset_size=dataset_size, mode_train=True, input_format=input_format, noise_ratio=noise_ratio, interpolation=interpolation, key=train_data_key)\n",
    "    ts, _, coeffs, labels, in_size = dataset.make_dataset()\n",
    "    \n",
    "    model = NeuralCDE(in_size, out_size, hidden_size, width_size, depth, interpolation=interpolation, key=model_key)\n",
    "\n",
    "    # Training loop like normal.\n",
    "\n",
    "    grad_loss = eqx.filter_value_and_grad(nll_loss, has_aux=True)\n",
    "\n",
    "    @eqx.filter_jit\n",
    "    def make_step(model: eqx.Module, data: Array, opt_state: Tuple, *args, key:PRNGKeyArray) -> Tuple[Float, Float, eqx.Module, Tuple]:\n",
    "        ts, *coeffs, labels = data\n",
    "        (xe, acc), grads = grad_loss(model, (ts, coeffs), labels, *args, key=key)\n",
    "        updates, opt_state = optim.update(grads, opt_state, model)\n",
    "        model = eqx.apply_updates(model, updates)\n",
    "        return xe, acc, model, opt_state\n",
    "\n",
    "    model = eqx.nn.inference_mode(model, value=False)\n",
    "    optim = optax.adam(lr)\n",
    "    opt_state = optim.init(eqx.filter(model, eqx.is_inexact_array))\n",
    "\n",
    "    loader_key, _loader_key = jr.split(loader_key, 2)\n",
    "    for step, data in zip(\n",
    "        range(steps), dataloader_ununiformed_sequence(((ts, *coeffs), labels), batch_size, key=_loader_key)\n",
    "    ):\n",
    "        loader_key, _loader_key = jr.split(loader_key, 2)\n",
    "        start = time.time()\n",
    "        xe, acc, model, opt_state = make_step(model, data, opt_state, out_size, key=_loader_key)\n",
    "        end = time.time()\n",
    "        print(\n",
    "            f\"Step: {step}, Loss: {xe}, Accuracy: {acc}, Computation time: \"\n",
    "            f\"{end - start}\"\n",
    "        )\n",
    "        \n",
    "    model = eqx.nn.inference_mode(model)\n",
    "    dataset = MNISTStrokeDataset(dataset_size=256, mode_train=False, input_format=input_format, noise_ratio=noise_ratio, interpolation=interpolation, key=test_data_key)\n",
    "    ts, _, coeffs, labels, _ = dataset.make_dataset()\n",
    "    list_xe = []\n",
    "    list_acc = []\n",
    "    for data in zip(ts, *coeffs, labels):\n",
    "        data = [jnp.expand_dims(x, axis=0) for x in data]\n",
    "        _ts, *_coeffs, _label = data\n",
    "        xe, acc = nll_loss(model, (_ts, _coeffs), _label, out_size, key=test_loss_key)\n",
    "        list_xe.append(lax.stop_gradient(xe))\n",
    "        list_acc.append(lax.stop_gradient(acc))\n",
    "    print(f\"Test loss: {jnp.mean(jnp.array(list_xe))}, Test Accuracy: {jnp.mean(jnp.array(list_acc))}\")"
   ]
  },
  {
   "cell_type": "code",
   "execution_count": 7,
   "id": "f20eda4c-fd1a-4a2e-a3f0-91c5ba98ec0d",
   "metadata": {},
   "outputs": [
    {
     "name": "stderr",
     "output_type": "stream",
     "text": [
      "100%|█████████████████████████████████████████| 128/128 [00:08<00:00, 15.68it/s]\n"
     ]
    },
    {
     "name": "stdout",
     "output_type": "stream",
     "text": [
      "Step: 0, Loss: 3.394502639770508, Accuracy: 0.03125, Computation time: 3.0246801376342773\n",
      "Step: 1, Loss: 2.6009562015533447, Accuracy: 0.03125, Computation time: 3.0226399898529053\n"
     ]
    },
    {
     "name": "stderr",
     "output_type": "stream",
     "text": [
      "100%|█████████████████████████████████████████| 256/256 [00:05<00:00, 48.49it/s]\n"
     ]
    },
    {
     "name": "stdout",
     "output_type": "stream",
     "text": [
      "Test loss: 3.051206111907959, Test Accuracy: 0.125\n"
     ]
    }
   ],
   "source": [
    "#%%memray_flamegraph\n",
    "eqx.clear_caches()\n",
    "jax.clear_caches()\n",
    "main()"
   ]
  },
  {
   "cell_type": "code",
   "execution_count": null,
   "id": "5a3a169e-f7c7-476b-9727-f7666bbf30da",
   "metadata": {},
   "outputs": [],
   "source": []
  }
 ],
 "metadata": {
  "kernelspec": {
   "display_name": "Python 3 (ipykernel)",
   "language": "python",
   "name": "python3"
  },
  "language_info": {
   "codemirror_mode": {
    "name": "ipython",
    "version": 3
   },
   "file_extension": ".py",
   "mimetype": "text/x-python",
   "name": "python",
   "nbconvert_exporter": "python",
   "pygments_lexer": "ipython3",
   "version": "3.11.5"
  }
 },
 "nbformat": 4,
 "nbformat_minor": 5
}
